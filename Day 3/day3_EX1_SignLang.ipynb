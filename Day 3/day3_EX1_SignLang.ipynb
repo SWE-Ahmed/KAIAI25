{
  "nbformat": 4,
  "nbformat_minor": 0,
  "metadata": {
    "colab": {
      "provenance": [],
      "collapsed_sections": [
        "qWb17ZPBAWvP"
      ]
    },
    "kernelspec": {
      "name": "python3",
      "display_name": "Python 3"
    },
    "language_info": {
      "name": "python"
    }
  },
  "cells": [
    {
      "cell_type": "markdown",
      "source": [
        "# Arabic Sign Language Recognition using a Neural Network\n",
        "\n",
        "## Introduction\n",
        "\n",
        "This notebook details the implementation of a neural network using PyTorch to recognize Arabic Sign Language alphabets.  The goal is to contribute to improving accessibility and communication for those who use sign language.\n",
        "\n",
        "## 1. Dataset Details: ArASL\n",
        "\n",
        "This project utilizes the ArASL (Arabic Alphabets Sign Language Dataset).  This dataset contains images of hand signs representing the Arabic alphabet.\n",
        "\n",
        "- **Total Images:** 54,049\n",
        "- **Classes:** 32 (representing the Arabic alphabet)\n",
        "\n",
        "## 2. Dataset Split\n",
        "\n",
        "The dataset has been split into training and validation sets:\n",
        "\n",
        "- **Training Set Size:** 43,239 images\n",
        "- **Validation Set Size:** 10,810 images\n",
        "\n",
        "## 3. Label Representation\n",
        "\n",
        "Each image is associated with a numerical label representing a specific Arabic character.  These labels are integers ranging from 0 to 31.\n",
        "\n",
        "## 4. Character Mapping\n",
        "\n",
        "The mapping between numerical labels and corresponding Arabic characters is defined in the `mapping` variable (see code).  The mapping is also provided below for reference:\n",
        "\n",
        "0: 'seen', 1: 'zay', 2: 'aleff', 3: 'dal', 4: 'ta', 5: 'yaa', 6: 'fa', 7: 'ya', 8: 'khaa', 9: 'nun', 10: 'ha', 11: 'toot', 12: 'taa', 13: 'ra', 14: 'kaaf', 15: 'jeem', 16: 'laam', 17: 'la', 18: 'dhad', 19: 'dha', 20: 'waw', 21: 'meem', 22: 'al', 23: 'sheen', 24: 'haa', 25: 'thaa', 26: 'saad', 27: 'ghain', 28: 'ain', 29: 'thal', 30: 'gaaf', 31: 'bb'\n",
        "\n",
        "## 5. Reference\n",
        "\n",
        "Latif, G., Mohammad, N., Alghazo, J., AlKhalaf, R., & AlKhalaf, R. (2019). ARASL: Arabic Alphabets Sign Language Dataset. *Data in Brief*, 23, 103777. https://doi.org/10.1016/j.dib.2019.103777"
      ],
      "metadata": {
        "id": "PrjZIlXJPDHo"
      }
    },
    {
      "cell_type": "code",
      "execution_count": 3,
      "metadata": {
        "id": "BCpQaqwoH2Pk"
      },
      "outputs": [],
      "source": [
        "from IPython.display import clear_output"
      ]
    },
    {
      "cell_type": "code",
      "source": [
        "# Download the required libraries (needed when running outside colab where the environment doesn't come pre-loaded with libraries)\n",
        "\n",
        "%pip install torch\n",
        "%pip install torchvision\n",
        "%pip install matplotlib\n",
        "\n",
        "clear_output()"
      ],
      "metadata": {
        "id": "HBuuF9MJKjoe"
      },
      "execution_count": 4,
      "outputs": []
    },
    {
      "cell_type": "code",
      "source": [
        "# importing libraries\n",
        "import torch\n",
        "import torch.nn as nn\n",
        "import torch.nn.functional as F\n",
        "from torchvision.datasets import MNIST\n",
        "from torchvision.transforms.functional import to_tensor, to_pil_image, resize\n",
        "from torchvision import transforms\n",
        "from torch.utils.data import DataLoader\n",
        "from torch.optim import Adam\n",
        "import matplotlib.pyplot as plt"
      ],
      "metadata": {
        "id": "gtV7omCIKq0K"
      },
      "execution_count": 5,
      "outputs": []
    },
    {
      "cell_type": "markdown",
      "source": [
        "## Downloading the dataset\n",
        "\n",
        "### Run the following cells to download the MNIST dataset."
      ],
      "metadata": {
        "id": "Gw5z1ZSoLlh1"
      }
    },
    {
      "cell_type": "code",
      "source": [
        "!gdown https://data.mendeley.com/public-files/datasets/y7pckrw6z2/files/1efa0d6b-4d7f-4f58-9584-08f0488279ee/file_downloaded"
      ],
      "metadata": {
        "colab": {
          "base_uri": "https://localhost:8080/"
        },
        "id": "AqQxPwbp7TfV",
        "outputId": "01bdc7b5-f833-4a4b-a7b6-ec64582d45fe"
      },
      "execution_count": 6,
      "outputs": [
        {
          "output_type": "stream",
          "name": "stdout",
          "text": [
            "Downloading...\n",
            "From: https://data.mendeley.com/public-files/datasets/y7pckrw6z2/files/1efa0d6b-4d7f-4f58-9584-08f0488279ee/file_downloaded\n",
            "To: /content/file_downloaded\n",
            "100% 66.2M/66.2M [00:02<00:00, 25.8MB/s]\n"
          ]
        }
      ]
    },
    {
      "cell_type": "code",
      "source": [
        "import os\n",
        "\n",
        "def delete_folder(folder_path):\n",
        "    try:\n",
        "        # Get the list of files and subdirectories in the folder\n",
        "        for item in os.listdir(folder_path):\n",
        "            item_path = os.path.join(folder_path, item)\n",
        "\n",
        "            # If it's a file, delete it\n",
        "            if os.path.isfile(item_path):\n",
        "                os.remove(item_path)\n",
        "            # If it's a directory, recursively call delete_folder\n",
        "            elif os.path.isdir(item_path):\n",
        "                delete_folder(item_path)\n",
        "\n",
        "        # Remove the empty folder\n",
        "        os.rmdir(folder_path)\n",
        "        print(f\"Folder '{folder_path}' and its contents deleted successfully.\")\n",
        "    except FileNotFoundError:\n",
        "        print(f\"Folder '{folder_path}' not found.\")\n",
        "    except PermissionError:\n",
        "        print(f\"Permission error: Unable to delete folder '{folder_path}'.\")\n",
        "    except Exception as e:\n",
        "        print(f\"An error occurred: {e}\")\n",
        "\n",
        "\n",
        "delete_folder('ArASL_Database_54K_Final')\n",
        "\n",
        "!unzip file_downloaded\n",
        "clear_output()"
      ],
      "metadata": {
        "id": "yfnx8Ebf7pTT"
      },
      "execution_count": 7,
      "outputs": []
    },
    {
      "cell_type": "markdown",
      "source": [
        "### If you will build the neural network using numpy, change `t`'s value to 28. If you will build the neural network using pytorch, change `t`'s vlaue to 48. `t`'s value represents the size of the image."
      ],
      "metadata": {
        "id": "HmgvoOHCQ47Y"
      }
    },
    {
      "cell_type": "code",
      "source": [
        "t = 48"
      ],
      "metadata": {
        "id": "y-haxexuQ1ZO"
      },
      "execution_count": null,
      "outputs": []
    },
    {
      "cell_type": "markdown",
      "source": [
        "## Just run these two cells. You are not supposed to explore them."
      ],
      "metadata": {
        "id": "qWb17ZPBAWvP"
      }
    },
    {
      "cell_type": "code",
      "source": [
        "import os\n",
        "\n",
        "def rename_folders_and_create_mapping(folder_path):\n",
        "    # Get the list of folders in the specified path\n",
        "    folders = [folder for folder in os.listdir(folder_path) if os.path.isdir(os.path.join(folder_path, folder))]\n",
        "\n",
        "    # Create a mapping from original folder names to numbers\n",
        "    folder_mapping = {folder: i for i, folder in enumerate(folders)}\n",
        "\n",
        "    # Rename the folders in-place and store the original names in the mapping\n",
        "    for original_folder, number in folder_mapping.items():\n",
        "        new_folder_name = str(number)\n",
        "        new_folder_path = os.path.join(folder_path, new_folder_name)\n",
        "\n",
        "        # Rename the folder\n",
        "        os.rename(os.path.join(folder_path, original_folder), new_folder_path)\n",
        "\n",
        "    return folder_mapping\n",
        "\n",
        "folder_path = 'ArASL_Database_54K_Final'\n",
        "\n",
        "# Create the folder mapping and rename folders\n",
        "mapping = rename_folders_and_create_mapping(folder_path)\n",
        "\n",
        "# Print the folder mapping\n",
        "print(\"Folder Mapping:\")\n",
        "print(mapping)\n"
      ],
      "metadata": {
        "colab": {
          "base_uri": "https://localhost:8080/"
        },
        "id": "6sjyA1C1E5ik",
        "outputId": "3c8b20f6-571f-4fc3-93ce-0e0406b66337"
      },
      "execution_count": 8,
      "outputs": [
        {
          "output_type": "stream",
          "name": "stdout",
          "text": [
            "Folder Mapping:\n",
            "{'taa': 0, 'la': 1, 'ya': 2, 'yaa': 3, 'ghain': 4, 'ta': 5, 'kaaf': 6, 'dal': 7, 'bb': 8, 'ra': 9, 'waw': 10, 'laam': 11, 'thal': 12, 'fa': 13, 'seen': 14, 'khaa': 15, 'zay': 16, 'nun': 17, 'meem': 18, 'dhad': 19, 'ain': 20, 'sheen': 21, 'toot': 22, 'jeem': 23, 'ha': 24, 'al': 25, 'thaa': 26, 'gaaf': 27, 'saad': 28, 'dha': 29, 'haa': 30, 'aleff': 31}\n"
          ]
        }
      ]
    },
    {
      "cell_type": "code",
      "source": [
        "import torch\n",
        "from torch.utils.data import Dataset, DataLoader\n",
        "from torchvision import transforms\n",
        "from PIL import Image\n",
        "import os\n",
        "\n",
        "class CustomDataset(Dataset):\n",
        "    def __init__(self, root_folder, transform=None, target_size=(28, 28)):\n",
        "        self.root_folder = root_folder\n",
        "        self.transform = transform\n",
        "        self.target_size = target_size\n",
        "\n",
        "        # Get the list of image files\n",
        "        self.image_files = []\n",
        "        self.image_labels = []\n",
        "\n",
        "        for root, dirs, files in os.walk(root_folder):\n",
        "            for file in files:\n",
        "                if file.lower().endswith('.jpg'):\n",
        "                    self.image_files.append(os.path.join(root, file))\n",
        "                    self.image_labels.append(int(os.path.basename(root)))\n",
        "\n",
        "    def __len__(self):\n",
        "        return len(self.image_labels)\n",
        "\n",
        "    def __getitem__(self, idx):\n",
        "        img_path = self.image_files[idx]\n",
        "        label = self.image_labels[idx]\n",
        "\n",
        "        # Convert label to tensor\n",
        "        # print(\"Label\", label, type(label))\n",
        "        label = torch.tensor(label)\n",
        "\n",
        "        # Open the image\n",
        "        with Image.open(img_path) as img:\n",
        "            # Convert the image to grayscale\n",
        "            img = img.convert('L')\n",
        "\n",
        "            # Resize the image\n",
        "            img = img.resize(self.target_size)\n",
        "\n",
        "            # Apply additional transformations if specified\n",
        "            if self.transform:\n",
        "                img = self.transform(img)\n",
        "\n",
        "            return (img, label)\n",
        "\n",
        "# Define the root folder and output folder\n",
        "root_folder_path = 'ArASL_Database_54K_Final'\n",
        "\n",
        "\n",
        "# Define transformations (resize to 28x28 and convert to tensor)\n",
        "data_transform = transforms.Compose([\n",
        "\n",
        "    transforms.Resize((t, t)),\n",
        "    transforms.ToTensor(),\n",
        "])\n",
        "\n",
        "# Create an instance of the custom dataset\n",
        "custom_dataset = CustomDataset(root_folder_path, transform=data_transform)\n",
        "\n",
        "from torch.utils.data import random_split\n",
        "\n",
        "# Define the size of the training and validation sets\n",
        "total_size = len(custom_dataset)\n",
        "train_size = int(0.8 * total_size)  # 80% for training\n",
        "val_size = total_size - train_size  # 20% for validation\n",
        "\n",
        "# Split the dataset\n",
        "train_dataset, val_dataset = random_split(custom_dataset, [train_size, val_size])\n",
        "\n",
        "mapping = {v:k for k,v in mapping.items()}"
      ],
      "metadata": {
        "id": "Efxefg5j94pO"
      },
      "execution_count": 9,
      "outputs": []
    },
    {
      "cell_type": "markdown",
      "source": [
        "## Exploring the data"
      ],
      "metadata": {
        "id": "ObDvaInfAdBJ"
      }
    },
    {
      "cell_type": "markdown",
      "source": [
        "#### Here is the mapping for each class and its encoding. In addition to the train_dataset and val_dataset"
      ],
      "metadata": {
        "id": "GmA6buxlh9XI"
      }
    },
    {
      "cell_type": "code",
      "source": [
        "train_dataset # Contains the training ArASL_Database_54K_Final dataset (80%)\n",
        "\n",
        "val_dataset  # Contains the validating ArASL_Database_54K_Final dataset (20%)\n",
        "\n",
        "\n",
        "print(\"The mapping between the letters and the encoding: \\n\", mapping)\n",
        "\n",
        "# Check the lengths of train_dataset and val_dataset.\n",
        "len(train_dataset), len(val_dataset)"
      ],
      "metadata": {
        "colab": {
          "base_uri": "https://localhost:8080/"
        },
        "id": "60ugrf0DMF2N",
        "outputId": "1c5fd5fa-baa1-4eaa-fd11-bdbc233a6155"
      },
      "execution_count": 10,
      "outputs": [
        {
          "output_type": "stream",
          "name": "stdout",
          "text": [
            "The mapping between the letters and the encoding: \n",
            " {0: 'taa', 1: 'la', 2: 'ya', 3: 'yaa', 4: 'ghain', 5: 'ta', 6: 'kaaf', 7: 'dal', 8: 'bb', 9: 'ra', 10: 'waw', 11: 'laam', 12: 'thal', 13: 'fa', 14: 'seen', 15: 'khaa', 16: 'zay', 17: 'nun', 18: 'meem', 19: 'dhad', 20: 'ain', 21: 'sheen', 22: 'toot', 23: 'jeem', 24: 'ha', 25: 'al', 26: 'thaa', 27: 'gaaf', 28: 'saad', 29: 'dha', 30: 'haa', 31: 'aleff'}\n"
          ]
        },
        {
          "output_type": "execute_result",
          "data": {
            "text/plain": [
              "(43239, 10810)"
            ]
          },
          "metadata": {},
          "execution_count": 10
        }
      ]
    },
    {
      "cell_type": "code",
      "source": [
        "batch_size = 64\n",
        "\n",
        "# DataLoaders simplify the job of grouping the samples into batches.\n",
        "train_loader = DataLoader(train_dataset, batch_size=batch_size, shuffle=True)\n",
        "val_loader = DataLoader(val_dataset, batch_size=batch_size, shuffle=False)  # Do Not shuffle validation data"
      ],
      "metadata": {
        "id": "Oj4XUGKBQmwH"
      },
      "execution_count": 11,
      "outputs": []
    },
    {
      "cell_type": "code",
      "source": [
        "next(iter(train_loader))[0].shape"
      ],
      "metadata": {
        "colab": {
          "base_uri": "https://localhost:8080/"
        },
        "id": "Z3u-50-1Qgq2",
        "outputId": "ad9edcbf-d209-48e5-9e57-3e4eb21d397c"
      },
      "execution_count": 18,
      "outputs": [
        {
          "output_type": "execute_result",
          "data": {
            "text/plain": [
              "torch.Size([64, 1, 48, 48])"
            ]
          },
          "metadata": {},
          "execution_count": 18
        }
      ]
    },
    {
      "cell_type": "markdown",
      "source": [
        "## Let's visualize an image."
      ],
      "metadata": {
        "id": "4bw5HNZeQ7Gc"
      }
    },
    {
      "cell_type": "code",
      "source": [
        "random_img_idx = 30 # Write any random index (between 0 and 59999)\n",
        "\n",
        "image = train_dataset[random_img_idx][0]  # 0 for image part in (image, label) tuple.\n",
        "label = train_dataset[random_img_idx][1]  # 1 for label part\n",
        "\n",
        "print(\"The image label:\", label.item(), mapping[label.item()])\n",
        "\n",
        "plt.imshow(image.reshape(image.shape[1], image.shape[1]), cmap='gray')"
      ],
      "metadata": {
        "colab": {
          "base_uri": "https://localhost:8080/",
          "height": 467
        },
        "id": "kXxCJ5pQQ5jw",
        "outputId": "5c96aad1-ca25-4613-fead-657b1e013952"
      },
      "execution_count": 16,
      "outputs": [
        {
          "output_type": "stream",
          "name": "stdout",
          "text": [
            "The image label: 5 ta\n"
          ]
        },
        {
          "output_type": "execute_result",
          "data": {
            "text/plain": [
              "<matplotlib.image.AxesImage at 0x7b98d01af970>"
            ]
          },
          "metadata": {},
          "execution_count": 16
        },
        {
          "output_type": "display_data",
          "data": {
            "text/plain": [
              "<Figure size 640x480 with 1 Axes>"
            ],
            "image/png": "[encoded data removed]"
          },
          "metadata": {}
        }
      ]
    },
    {
      "cell_type": "markdown",
      "source": [
        "### Instructions:\n",
        "\n",
        "- Create a Neural Network: Use either PyTorch or NumPy to construct your neural network (NN).\n",
        "- Train the Model: Once the network is defined, proceed to train the model with the data.\n",
        "- Experiment with Layers: Adjust and experiment with different layer configurations to optimize the model's performance. Aim to achieve at least 80% accuracy on the validation dataset. Make sure to include a minimum of three distinct layers.\n",
        "- Explore Activation Functions: Try out various activation functions to find the most effective combination for your network."
      ],
      "metadata": {
        "id": "qvysz1ZnSh7f"
      }
    },
    {
      "cell_type": "code",
      "source": [],
      "metadata": {
        "id": "5G7ib-G0LTC1"
      },
      "execution_count": null,
      "outputs": []
    }
  ]
}