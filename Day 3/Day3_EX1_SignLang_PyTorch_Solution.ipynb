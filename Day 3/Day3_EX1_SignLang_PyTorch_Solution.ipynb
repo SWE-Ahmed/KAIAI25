{
  "nbformat": 4,
  "nbformat_minor": 0,
  "metadata": {
    "colab": {
      "provenance": [],
      "gpuType": "T4"
    },
    "kernelspec": {
      "name": "python3",
      "display_name": "Python 3"
    },
    "language_info": {
      "name": "python"
    },
    "accelerator": "GPU"
  },
  "cells": [
    {
      "cell_type": "markdown",
      "source": [
        "# Arabic Sign Language Recognition using a Neural Network\n",
        "\n",
        "## Introduction\n",
        "\n",
        "This notebook details the implementation of a neural network using PyTorch to recognize Arabic Sign Language alphabets.  The goal is to contribute to improving accessibility and communication for those who use sign language.\n",
        "\n",
        "## 1. Dataset Details: ArASL\n",
        "\n",
        "This project utilizes the ArASL (Arabic Alphabets Sign Language Dataset).  This dataset contains images of hand signs representing the Arabic alphabet.\n",
        "\n",
        "- **Total Images:** 54,049\n",
        "- **Classes:** 32 (representing the Arabic alphabet)\n",
        "\n",
        "## 2. Dataset Split\n",
        "\n",
        "The dataset has been split into training and validation sets:\n",
        "\n",
        "- **Training Set Size:** 43,239 images\n",
        "- **Validation Set Size:** 10,810 images\n",
        "\n",
        "## 3. Label Representation\n",
        "\n",
        "Each image is associated with a numerical label representing a specific Arabic character.  These labels are integers ranging from 0 to 31.\n",
        "\n",
        "## 4. Character Mapping\n",
        "\n",
        "The mapping between numerical labels and corresponding Arabic characters is defined in the `mapping` variable (see code).  The mapping is also provided below for reference:\n",
        "\n",
        "0: 'seen', 1: 'zay', 2: 'aleff', 3: 'dal', 4: 'ta', 5: 'yaa', 6: 'fa', 7: 'ya', 8: 'khaa', 9: 'nun', 10: 'ha', 11: 'toot', 12: 'taa', 13: 'ra', 14: 'kaaf', 15: 'jeem', 16: 'laam', 17: 'la', 18: 'dhad', 19: 'dha', 20: 'waw', 21: 'meem', 22: 'al', 23: 'sheen', 24: 'haa', 25: 'thaa', 26: 'saad', 27: 'ghain', 28: 'ain', 29: 'thal', 30: 'gaaf', 31: 'bb'\n",
        "\n",
        "## 5. Reference\n",
        "\n",
        "Latif, G., Mohammad, N., Alghazo, J., AlKhalaf, R., & AlKhalaf, R. (2019). ARASL: Arabic Alphabets Sign Language Dataset. *Data in Brief*, 23, 103777. https://doi.org/10.1016/j.dib.2019.103777"
      ],
      "metadata": {
        "id": "PrjZIlXJPDHo"
      }
    },
    {
      "cell_type": "code",
      "execution_count": 1,
      "metadata": {
        "id": "BCpQaqwoH2Pk"
      },
      "outputs": [],
      "source": [
        "from IPython.display import clear_output"
      ]
    },
    {
      "cell_type": "code",
      "source": [
        "# Download the required libraries (needed when running outside colab where the environment doesn't come pre-loaded with libraries)\n",
        "\n",
        "%pip install torch\n",
        "%pip install torchvision\n",
        "%pip install matplotlib\n",
        "\n",
        "clear_output()"
      ],
      "metadata": {
        "id": "HBuuF9MJKjoe"
      },
      "execution_count": 2,
      "outputs": []
    },
    {
      "cell_type": "code",
      "source": [
        "# importing libraries\n",
        "import torch\n",
        "import torch.nn as nn\n",
        "import torch.nn.functional as F\n",
        "from torchvision.datasets import MNIST\n",
        "from torchvision.transforms.functional import to_tensor, to_pil_image, resize\n",
        "from torchvision import transforms\n",
        "from torch.utils.data import DataLoader\n",
        "from torch.optim import Adam\n",
        "import matplotlib.pyplot as plt"
      ],
      "metadata": {
        "id": "gtV7omCIKq0K"
      },
      "execution_count": 3,
      "outputs": []
    },
    {
      "cell_type": "markdown",
      "source": [
        "## Downloading the dataset\n",
        "\n",
        "### Run the following cells to download the MNIST dataset."
      ],
      "metadata": {
        "id": "Gw5z1ZSoLlh1"
      }
    },
    {
      "cell_type": "code",
      "source": [
        "!gdown https://data.mendeley.com/public-files/datasets/y7pckrw6z2/files/1efa0d6b-4d7f-4f58-9584-08f0488279ee/file_downloaded"
      ],
      "metadata": {
        "colab": {
          "base_uri": "https://localhost:8080/"
        },
        "id": "AqQxPwbp7TfV",
        "outputId": "1e3edbf8-5355-4cb0-cf21-68677bede8f3"
      },
      "execution_count": 4,
      "outputs": [
        {
          "output_type": "stream",
          "name": "stdout",
          "text": [
            "Downloading...\n",
            "From: https://data.mendeley.com/public-files/datasets/y7pckrw6z2/files/1efa0d6b-4d7f-4f58-9584-08f0488279ee/file_downloaded\n",
            "To: /content/file_downloaded\n",
            "100% 66.2M/66.2M [00:04<00:00, 13.8MB/s]\n"
          ]
        }
      ]
    },
    {
      "cell_type": "code",
      "source": [
        "import os\n",
        "\n",
        "def delete_folder(folder_path):\n",
        "    try:\n",
        "        # Get the list of files and subdirectories in the folder\n",
        "        for item in os.listdir(folder_path):\n",
        "            item_path = os.path.join(folder_path, item)\n",
        "\n",
        "            # If it's a file, delete it\n",
        "            if os.path.isfile(item_path):\n",
        "                os.remove(item_path)\n",
        "            # If it's a directory, recursively call delete_folder\n",
        "            elif os.path.isdir(item_path):\n",
        "                delete_folder(item_path)\n",
        "\n",
        "        # Remove the empty folder\n",
        "        os.rmdir(folder_path)\n",
        "        print(f\"Folder '{folder_path}' and its contents deleted successfully.\")\n",
        "    except FileNotFoundError:\n",
        "        print(f\"Folder '{folder_path}' not found.\")\n",
        "    except PermissionError:\n",
        "        print(f\"Permission error: Unable to delete folder '{folder_path}'.\")\n",
        "    except Exception as e:\n",
        "        print(f\"An error occurred: {e}\")\n",
        "\n",
        "\n",
        "delete_folder('ArASL_Database_54K_Final')\n",
        "\n",
        "!unzip file_downloaded\n",
        "clear_output()"
      ],
      "metadata": {
        "id": "yfnx8Ebf7pTT"
      },
      "execution_count": 5,
      "outputs": []
    },
    {
      "cell_type": "markdown",
      "source": [
        "### If you will build the neural network using numpy, change `t`'s value to 28. If you will build the neural network using pytorch, change `t`'s vlaue to 48. `t`'s value represents the size of the image."
      ],
      "metadata": {
        "id": "HmgvoOHCQ47Y"
      }
    },
    {
      "cell_type": "code",
      "source": [
        "t = 48"
      ],
      "metadata": {
        "id": "y-haxexuQ1ZO"
      },
      "execution_count": 6,
      "outputs": []
    },
    {
      "cell_type": "markdown",
      "source": [
        "## Just run these two cells. You are not supposed to explore them."
      ],
      "metadata": {
        "id": "qWb17ZPBAWvP"
      }
    },
    {
      "cell_type": "code",
      "source": [
        "import os\n",
        "\n",
        "def rename_folders_and_create_mapping(folder_path):\n",
        "    # Get the list of folders in the specified path\n",
        "    folders = [folder for folder in os.listdir(folder_path) if os.path.isdir(os.path.join(folder_path, folder))]\n",
        "\n",
        "    # Create a mapping from original folder names to numbers\n",
        "    folder_mapping = {folder: i for i, folder in enumerate(folders)}\n",
        "\n",
        "    # Rename the folders in-place and store the original names in the mapping\n",
        "    for original_folder, number in folder_mapping.items():\n",
        "        new_folder_name = str(number)\n",
        "        new_folder_path = os.path.join(folder_path, new_folder_name)\n",
        "\n",
        "        # Rename the folder\n",
        "        os.rename(os.path.join(folder_path, original_folder), new_folder_path)\n",
        "\n",
        "    return folder_mapping\n",
        "\n",
        "folder_path = 'ArASL_Database_54K_Final'\n",
        "\n",
        "# Create the folder mapping and rename folders\n",
        "mapping = rename_folders_and_create_mapping(folder_path)\n",
        "\n",
        "# Print the folder mapping\n",
        "print(\"Folder Mapping:\")\n",
        "print(mapping)\n"
      ],
      "metadata": {
        "colab": {
          "base_uri": "https://localhost:8080/"
        },
        "id": "6sjyA1C1E5ik",
        "outputId": "850009c2-81c8-4347-bc41-f0a253cf1a47"
      },
      "execution_count": 7,
      "outputs": [
        {
          "output_type": "stream",
          "name": "stdout",
          "text": [
            "Folder Mapping:\n",
            "{'ya': 0, 'thaa': 1, 'ra': 2, 'gaaf': 3, 'seen': 4, 'taa': 5, 'laam': 6, 'bb': 7, 'al': 8, 'dhad': 9, 'ain': 10, 'yaa': 11, 'aleff': 12, 'nun': 13, 'kaaf': 14, 'jeem': 15, 'haa': 16, 'waw': 17, 'thal': 18, 'saad': 19, 'meem': 20, 'dha': 21, 'sheen': 22, 'toot': 23, 'dal': 24, 'fa': 25, 'ta': 26, 'zay': 27, 'la': 28, 'ghain': 29, 'khaa': 30, 'ha': 31}\n"
          ]
        }
      ]
    },
    {
      "cell_type": "code",
      "source": [
        "import torch\n",
        "from torch.utils.data import Dataset, DataLoader\n",
        "from torchvision import transforms\n",
        "from PIL import Image\n",
        "import os\n",
        "\n",
        "class CustomDataset(Dataset):\n",
        "    def __init__(self, root_folder, transform=None, target_size=(28, 28)):\n",
        "        self.root_folder = root_folder\n",
        "        self.transform = transform\n",
        "        self.target_size = target_size\n",
        "\n",
        "        # Get the list of image files\n",
        "        self.image_files = []\n",
        "        self.image_labels = []\n",
        "\n",
        "        for root, dirs, files in os.walk(root_folder):\n",
        "            for file in files:\n",
        "                if file.lower().endswith('.jpg'):\n",
        "                    self.image_files.append(os.path.join(root, file))\n",
        "                    self.image_labels.append(int(os.path.basename(root)))\n",
        "\n",
        "    def __len__(self):\n",
        "        return len(self.image_labels)\n",
        "\n",
        "    def __getitem__(self, idx):\n",
        "        img_path = self.image_files[idx]\n",
        "        label = self.image_labels[idx]\n",
        "\n",
        "        # Convert label to tensor\n",
        "        # print(\"Label\", label, type(label))\n",
        "        label = torch.tensor(label)\n",
        "\n",
        "        # Open the image\n",
        "        with Image.open(img_path) as img:\n",
        "            # Convert the image to grayscale\n",
        "            img = img.convert('L')\n",
        "\n",
        "            # Resize the image\n",
        "            img = img.resize(self.target_size)\n",
        "\n",
        "            # Apply additional transformations if specified\n",
        "            if self.transform:\n",
        "                img = self.transform(img)\n",
        "\n",
        "            return (img, label)\n",
        "\n",
        "# Define the root folder and output folder\n",
        "root_folder_path = 'ArASL_Database_54K_Final'\n",
        "\n",
        "\n",
        "# Define transformations (resize to 28x28 and convert to tensor)\n",
        "data_transform = transforms.Compose([\n",
        "\n",
        "    transforms.Resize((t, t)),\n",
        "    transforms.ToTensor(),\n",
        "])\n",
        "\n",
        "# Create an instance of the custom dataset\n",
        "custom_dataset = CustomDataset(root_folder_path, transform=data_transform)\n",
        "\n",
        "from torch.utils.data import random_split\n",
        "\n",
        "# Define the size of the training and validation sets\n",
        "total_size = len(custom_dataset)\n",
        "train_size = int(0.8 * total_size)  # 80% for training\n",
        "val_size = total_size - train_size  # 20% for validation\n",
        "\n",
        "# Split the dataset\n",
        "train_dataset, val_dataset = random_split(custom_dataset, [train_size, val_size])\n",
        "\n",
        "mapping = {v:k for k,v in mapping.items()}"
      ],
      "metadata": {
        "id": "Efxefg5j94pO"
      },
      "execution_count": 8,
      "outputs": []
    },
    {
      "cell_type": "markdown",
      "source": [
        "## Exploring the data"
      ],
      "metadata": {
        "id": "ObDvaInfAdBJ"
      }
    },
    {
      "cell_type": "markdown",
      "source": [
        "#### Here is the mapping for each class and its encoding. In addition to the train_dataset and val_dataset"
      ],
      "metadata": {
        "id": "GmA6buxlh9XI"
      }
    },
    {
      "cell_type": "code",
      "source": [
        "train_dataset # Contains the training ArASL_Database_54K_Final dataset (80%)\n",
        "\n",
        "val_dataset  # Contains the validating ArASL_Database_54K_Final dataset (20%)\n",
        "\n",
        "\n",
        "print(\"The mapping between the letters and the encoding: \\n\", mapping)\n",
        "\n",
        "# Check the lengths of train_dataset and val_dataset.\n",
        "len(train_dataset), len(val_dataset)"
      ],
      "metadata": {
        "colab": {
          "base_uri": "https://localhost:8080/"
        },
        "id": "60ugrf0DMF2N",
        "outputId": "5a048774-449d-473d-a27f-8e0450023aa6"
      },
      "execution_count": 9,
      "outputs": [
        {
          "output_type": "stream",
          "name": "stdout",
          "text": [
            "The mapping between the letters and the encoding: \n",
            " {0: 'ya', 1: 'thaa', 2: 'ra', 3: 'gaaf', 4: 'seen', 5: 'taa', 6: 'laam', 7: 'bb', 8: 'al', 9: 'dhad', 10: 'ain', 11: 'yaa', 12: 'aleff', 13: 'nun', 14: 'kaaf', 15: 'jeem', 16: 'haa', 17: 'waw', 18: 'thal', 19: 'saad', 20: 'meem', 21: 'dha', 22: 'sheen', 23: 'toot', 24: 'dal', 25: 'fa', 26: 'ta', 27: 'zay', 28: 'la', 29: 'ghain', 30: 'khaa', 31: 'ha'}\n"
          ]
        },
        {
          "output_type": "execute_result",
          "data": {
            "text/plain": [
              "(43239, 10810)"
            ]
          },
          "metadata": {},
          "execution_count": 9
        }
      ]
    },
    {
      "cell_type": "code",
      "source": [
        "batch_size = 64\n",
        "\n",
        "# DataLoaders simplify the job of grouping the samples into batches.\n",
        "train_loader = DataLoader(train_dataset, batch_size=batch_size, shuffle=True)\n",
        "val_loader = DataLoader(val_dataset, batch_size=batch_size, shuffle=False)  # Do Not shuffle validation data"
      ],
      "metadata": {
        "id": "Oj4XUGKBQmwH"
      },
      "execution_count": 10,
      "outputs": []
    },
    {
      "cell_type": "code",
      "source": [
        "next(iter(train_loader))[0].shape"
      ],
      "metadata": {
        "colab": {
          "base_uri": "https://localhost:8080/"
        },
        "id": "Z3u-50-1Qgq2",
        "outputId": "5162d578-17cb-46ab-d6dc-a6b0a32e2ec3"
      },
      "execution_count": 11,
      "outputs": [
        {
          "output_type": "execute_result",
          "data": {
            "text/plain": [
              "torch.Size([64, 1, 48, 48])"
            ]
          },
          "metadata": {},
          "execution_count": 11
        }
      ]
    },
    {
      "cell_type": "markdown",
      "source": [
        "## Let's visualize an image."
      ],
      "metadata": {
        "id": "4bw5HNZeQ7Gc"
      }
    },
    {
      "cell_type": "code",
      "source": [
        "random_img_idx = 30 # Write any random index (between 0 and 59999)\n",
        "\n",
        "image = train_dataset[random_img_idx][0]  # 0 for image part in (image, label) tuple.\n",
        "label = train_dataset[random_img_idx][1]  # 1 for label part\n",
        "\n",
        "print(\"The image label:\", label.item(), mapping[label.item()])\n",
        "\n",
        "plt.imshow(image.reshape(image.shape[1], image.shape[1]), cmap='gray')"
      ],
      "metadata": {
        "colab": {
          "base_uri": "https://localhost:8080/",
          "height": 467
        },
        "id": "kXxCJ5pQQ5jw",
        "outputId": "842a2b1c-92e7-4e09-8340-77f710512abc"
      },
      "execution_count": 12,
      "outputs": [
        {
          "output_type": "stream",
          "name": "stdout",
          "text": [
            "The image label: 12 aleff\n"
          ]
        },
        {
          "output_type": "execute_result",
          "data": {
            "text/plain": [
              "<matplotlib.image.AxesImage at 0x7fb2b04a1ab0>"
            ]
          },
          "metadata": {},
          "execution_count": 12
        },
        {
          "output_type": "display_data",
          "data": {
            "text/plain": [
              "<Figure size 640x480 with 1 Axes>"
            ],
            "image/png": "[encoded data removed]"
          },
          "metadata": {}
        }
      ]
    },
    {
      "cell_type": "markdown",
      "source": [
        "### Instructions:\n",
        "\n",
        "- Create a Neural Network: Use either PyTorch or NumPy to construct your neural network (NN).\n",
        "- Train the Model: Once the network is defined, proceed to train the model with the data.\n",
        "- Experiment with Layers: Adjust and experiment with different layer configurations to optimize the model's performance. Aim to achieve at least 80% accuracy on the validation dataset. Make sure to include a minimum of three distinct layers.\n",
        "- Explore Activation Functions: Try out various activation functions to find the most effective combination for your network."
      ],
      "metadata": {
        "id": "qvysz1ZnSh7f"
      }
    },
    {
      "cell_type": "markdown",
      "source": [
        "### Create a NN uisng Pytorch. Play with the layers to get the best model on the validation data."
      ],
      "metadata": {
        "id": "Y59KfGgrkJjj"
      }
    },
    {
      "cell_type": "code",
      "source": [
        "import torch.nn.functional as F\n",
        "class SignLangModel(nn.Module):\n",
        "  def __init__(self, input_size):\n",
        "    super(SignLangModel, self).__init__()\n",
        "\n",
        "\n",
        "    self.linear1 = nn.Linear(input_size, 1024)\n",
        "    self.linear2 = nn.Linear(1024, 512)\n",
        "    self.linear3 = nn.Linear(512, 128)\n",
        "    self.linear4 = nn.Linear(128, 64)\n",
        "    self.linear5 = nn.Linear(64, 32)\n",
        "\n",
        "\n",
        "  def forward(self, x):\n",
        "\n",
        "    x = torch.relu(self.linear1(x))\n",
        "    x = torch.relu(self.linear2(x))\n",
        "    x = torch.relu(self.linear3(x))\n",
        "    x = torch.relu(self.linear4(x))\n",
        "    x = self.linear5(x)\n",
        "\n",
        "    return x"
      ],
      "metadata": {
        "id": "qsgP23s4QNib"
      },
      "execution_count": 13,
      "outputs": []
    },
    {
      "cell_type": "markdown",
      "source": [
        "### Preparing the mdoel and the optimizer.\n",
        "1. Prepare the device to move the calculations into the GPU.\n",
        "2. Create the model object that you have defined previously."
      ],
      "metadata": {
        "id": "AhOFMlUlS0fR"
      }
    },
    {
      "cell_type": "code",
      "source": [
        "device = 'cuda' if torch.cuda.is_available() else 'cpu'  # checks if machine supports cuda and if it does, we use that, otherwise cpu\n",
        "input_size = 48 * 48\n",
        "model = SignLangModel(input_size).to(device)"
      ],
      "metadata": {
        "id": "Vg_ZO5lNZ5B-"
      },
      "execution_count": 14,
      "outputs": []
    },
    {
      "cell_type": "markdown",
      "source": [
        "#### Define whatever you need of variables before the training loop."
      ],
      "metadata": {
        "id": "aPNgijGDTrTe"
      }
    },
    {
      "cell_type": "code",
      "source": [
        "num_epochs = 15\n",
        "lr = 1e-3\n",
        "\n",
        "train_losses = []\n",
        "val_losses = []\n",
        "\n",
        "optimizer = Adam(model.parameters(), lr=lr) # Adam is an optimizer (i.e. GD, SGD)\n",
        "criterion = nn.CrossEntropyLoss()  # multi-class loss.\n",
        "\n",
        "print(f'Using device {device}')"
      ],
      "metadata": {
        "colab": {
          "base_uri": "https://localhost:8080/"
        },
        "id": "E5wBeaz7Zdar",
        "outputId": "dc7274b6-2e49-49f2-d8ec-f846226a9be3"
      },
      "execution_count": 15,
      "outputs": [
        {
          "output_type": "stream",
          "name": "stdout",
          "text": [
            "Using device cuda\n"
          ]
        }
      ]
    },
    {
      "cell_type": "markdown",
      "source": [
        "#### Train the model and make sure to store the losses of training and validation sets somewhere for later.\n",
        "\n",
        "1. Create one loop for learninig from the training set.\n",
        "2. Wrap the training loop by a loop for multiple iterations.\n",
        "3. After the training loop, add a loop specified for the validaiton set.\n",
        "4. Compute the accuracy of your model for each iteration."
      ],
      "metadata": {
        "id": "iZtw-DUdTx-7"
      }
    },
    {
      "cell_type": "code",
      "source": [
        "%%time\n",
        "for epoch_no in range(num_epochs):\n",
        "\n",
        "  model.train()  # convert to train model. This turns out train-specific layers in the model (if you dont know about them, an example of them is dropout. more on this later)\n",
        "\n",
        "  epoch_weighted_loss = 0\n",
        "\n",
        "  for batch_X, batch_y in train_loader:\n",
        "\n",
        "    # We need to flatten the input because it is a 2D array (image) not a linear.\n",
        "    batch_X = batch_X.view(-1, 48 * 48)\n",
        "\n",
        "    # Move everything to the device.\n",
        "    batch_X = batch_X.to(device)\n",
        "    batch_y = batch_y.to(device)\n",
        "\n",
        "    # predicite over X.\n",
        "    batch_y_probs = model(batch_X)  # outputs [N, 10] where each [:, 10] is probabilities for class (0-9)\n",
        "\n",
        "    # Compute the loss.\n",
        "    loss = criterion(batch_y_probs, batch_y)\n",
        "\n",
        "    # Reset the gradient.\n",
        "    optimizer.zero_grad()\n",
        "\n",
        "    # Compute the gradient.\n",
        "    loss.backward()\n",
        "\n",
        "    # Update the parameters.\n",
        "    optimizer.step()\n",
        "\n",
        "    # Store the loss.\n",
        "    epoch_weighted_loss += len(batch_y) * loss.item()\n",
        "\n",
        "  epoch_loss = epoch_weighted_loss/len(train_loader.dataset)\n",
        "\n",
        "  train_losses.append(epoch_loss)\n",
        "\n",
        "\n",
        "  # validation time\n",
        "\n",
        "  model.eval()  # take model to evaluation mode. turn off train-only layers\n",
        "  correctly_labelled = 0 # To count the accuracy.\n",
        "\n",
        "  with torch.no_grad(): # To stop calculating the gradient since we do not need it here.\n",
        "\n",
        "    val_epoch_weighted_loss = 0\n",
        "\n",
        "    for val_batch_X, val_batch_y in val_loader:\n",
        "\n",
        "        val_batch_X = val_batch_X.view(-1, 48 * 48)\n",
        "\n",
        "        val_batch_X = val_batch_X.to(device)\n",
        "        val_batch_y = val_batch_y.to(device)\n",
        "\n",
        "        # Predict on val_X\n",
        "        val_batch_y_probs = model(val_batch_X)\n",
        "\n",
        "        loss = criterion(val_batch_y_probs, val_batch_y)\n",
        "\n",
        "        val_epoch_weighted_loss += len(val_batch_y) * loss.item()\n",
        "\n",
        "        # convert probailities to labels by picking the label (index) with the highest prob.\n",
        "        val_batch_y_pred = val_batch_y_probs.argmax(dim=1)\n",
        "\n",
        "        correctly_labelled += (val_batch_y_pred == val_batch_y).sum().item()  # item converts tensor to float/int/list\n",
        "\n",
        "  val_epoch_loss = val_epoch_weighted_loss/len(val_loader.dataset)\n",
        "  val_losses.append(val_epoch_loss)\n",
        "\n",
        "  print(f'Epoch: {epoch_no}, train_loss={epoch_loss}, val_loss={val_epoch_loss}. labelled {correctly_labelled}/{len(val_loader.dataset)} correctly ({correctly_labelled/len(val_loader.dataset)*100}% accuracy)')\n",
        "\n",
        "print(f'Training complete on device {device}.')"
      ],
      "metadata": {
        "colab": {
          "base_uri": "https://localhost:8080/"
        },
        "id": "mVZ6QIbIZb0A",
        "outputId": "ad4cc3e7-a89c-4475-ce7a-e171c370c718"
      },
      "execution_count": 16,
      "outputs": [
        {
          "output_type": "stream",
          "name": "stdout",
          "text": [
            "Epoch: 0, train_loss=3.1510471601695076, val_loss=2.6993633811502518. labelled 1808/10810 correctly (16.725254394079556% accuracy)\n",
            "Epoch: 1, train_loss=2.4354939520084717, val_loss=2.1407102750915823. labelled 3403/10810 correctly (31.480111008325622% accuracy)\n",
            "Epoch: 2, train_loss=1.9667848942775465, val_loss=1.8688386193918587. labelled 4287/10810 correctly (39.6577243293247% accuracy)\n",
            "Epoch: 3, train_loss=1.6710199659628702, val_loss=1.6195273836049406. labelled 5123/10810 correctly (47.391304347826086% accuracy)\n",
            "Epoch: 4, train_loss=1.4639127534237388, val_loss=1.307711906250046. labelled 6231/10810 correctly (57.64107308048103% accuracy)\n",
            "Epoch: 5, train_loss=1.2916989098736276, val_loss=1.2761484328957204. labelled 6410/10810 correctly (59.29694727104533% accuracy)\n",
            "Epoch: 6, train_loss=1.1540144329119126, val_loss=1.0241248260704485. labelled 7324/10810 correctly (67.75208140610546% accuracy)\n",
            "Epoch: 7, train_loss=0.9984322162315112, val_loss=0.9260648006316581. labelled 7579/10810 correctly (70.11100832562443% accuracy)\n",
            "Epoch: 8, train_loss=0.8996594364596393, val_loss=0.8595210250332662. labelled 7931/10810 correctly (73.3672525439408% accuracy)\n",
            "Epoch: 9, train_loss=0.8208727664352442, val_loss=0.8479218294066924. labelled 7886/10810 correctly (72.95097132284921% accuracy)\n",
            "Epoch: 10, train_loss=0.7640909205662691, val_loss=0.9799935905609166. labelled 7411/10810 correctly (68.55689176688252% accuracy)\n",
            "Epoch: 11, train_loss=0.6877541586550966, val_loss=0.6903918037085925. labelled 8556/10810 correctly (79.14893617021276% accuracy)\n",
            "Epoch: 12, train_loss=0.6604326771373084, val_loss=0.6667990594302803. labelled 8671/10810 correctly (80.2127659574468% accuracy)\n",
            "Epoch: 13, train_loss=0.6200596919503959, val_loss=0.5797205848400511. labelled 9035/10810 correctly (83.58001850138761% accuracy)\n",
            "Epoch: 14, train_loss=0.5604482620141892, val_loss=0.6288220798329663. labelled 8852/10810 correctly (81.88714153561517% accuracy)\n",
            "Training complete on device cuda.\n",
            "CPU times: user 6min 29s, sys: 24.5 s, total: 6min 53s\n",
            "Wall time: 6min 56s\n"
          ]
        }
      ]
    },
    {
      "cell_type": "markdown",
      "source": [
        "#### Plot the training and validation losses.\n",
        "*HINT: Use the result of the plot to improve your model.*"
      ],
      "metadata": {
        "id": "8KpYqMcEU0r1"
      }
    },
    {
      "cell_type": "code",
      "source": [
        "plt.plot(train_losses, label='Train Loss')\n",
        "plt.plot(val_losses  , label='Val Loss')\n",
        "\n",
        "plt.ylabel('Loss (CCE)')\n",
        "plt.xlabel('Epoch')\n",
        "\n",
        "plt.legend()\n",
        "plt.show()"
      ],
      "metadata": {
        "colab": {
          "base_uri": "https://localhost:8080/",
          "height": 449
        },
        "id": "2cMN5vKga0Fk",
        "outputId": "87e9ab2d-498b-4572-fe51-8536431f0be1"
      },
      "execution_count": 19,
      "outputs": [
        {
          "output_type": "display_data",
          "data": {
            "text/plain": [
              "<Figure size 640x480 with 1 Axes>"
            ],
            "image/png": "[encoded data removed]"
          },
          "metadata": {}
        }
      ]
    }
  ]
}